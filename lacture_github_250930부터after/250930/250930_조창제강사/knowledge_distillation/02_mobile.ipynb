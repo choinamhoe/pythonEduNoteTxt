{
 "cells": [
  {
   "cell_type": "code",
   "execution_count": 2,
   "id": "f1d666b2-2aaf-4b81-af0d-06be0318e592",
   "metadata": {},
   "outputs": [],
   "source": [
    "from utils.block import BlockRes\n",
    "from tensorflow.keras import layers\n",
    "from utils.common import compose\n",
    "import tensorflow as tf"
   ]
  },
  {
   "cell_type": "code",
   "execution_count": 19,
   "id": "709aece0-f2c3-4702-837a-c52322fef81c",
   "metadata": {},
   "outputs": [],
   "source": [
    "import tensorflow.keras.backend as K\n",
    "\n",
    "def Relu(x):\n",
    "    return K.relu(x, max_value=6.0, alpha=0, threshold=0)"
   ]
  },
  {
   "cell_type": "code",
   "execution_count": 20,
   "id": "cd924bb9-7032-48ea-8848-64d0d399ff7d",
   "metadata": {},
   "outputs": [],
   "source": [
    "def CBN(\n",
    "    filters, kernel_size=3,\n",
    "    activation='relu', strides=1,\n",
    "    padding=\"valid\"):\n",
    "    \n",
    "    conv=layers.Conv2D(\n",
    "        filters, kernel_size = kernel_size,\n",
    "        strides = strides, padding = padding)\n",
    "    bn=layers.BatchNormalization(epsilon = 1.001e-05)\n",
    "    layers_list = [conv, bn]\n",
    "    if activation:\n",
    "        act=layers.Activation(activation = activation)\n",
    "        layers_list.append(act)\n",
    "    return compose(*layers_list)"
   ]
  },
  {
   "cell_type": "code",
   "execution_count": 21,
   "id": "5428188a-0ea8-4639-85de-ebe8e47eb54f",
   "metadata": {},
   "outputs": [],
   "source": [
    "def BlockMobile(\n",
    "    kernel_size, filters, \n",
    "    padding=\"valid\", \n",
    "    strides=1, activation=Relu\n",
    "    ):\n",
    "\n",
    "    layers_list=[\n",
    "        layers.DepthwiseConv2D(\n",
    "            kernel_size, strides=strides, \n",
    "            padding = padding, use_bias=False),\n",
    "        layers.BatchNormalization( ),\n",
    "        layers.Activation(activation=Relu),\n",
    "        # 인셉션 넷과 동일하게 마지막에 1x1 필터를 적용\n",
    "        layers.Conv2D(filters, 1, padding=\"same\", use_bias=False), \n",
    "        layers.BatchNormalization( ),\n",
    "        layers.Activation(activation=Relu),\n",
    "    ]\n",
    "    block=tf.keras.Sequential(layers_list)\n",
    "    return block"
   ]
  },
  {
   "cell_type": "code",
   "execution_count": 38,
   "id": "7f51aaf0-0d5a-40fb-8933-302ab24321cf",
   "metadata": {},
   "outputs": [],
   "source": [
    "input_shape = (224,224,3)\n",
    "\n",
    "inp = layers.Input(shape = input_shape)"
   ]
  },
  {
   "cell_type": "code",
   "execution_count": 39,
   "id": "e9916b42-803a-44c4-b773-8d07fd235e61",
   "metadata": {},
   "outputs": [],
   "source": [
    "x=tf.keras.Sequential(\n",
    "[\n",
    "    layers.Conv2D(32, 3, strides=2, padding=\"same\", use_bias= False),\n",
    "    layers.BatchNormalization( ),\n",
    "    layers.Activation(tf.keras.activations.relu),# tf.nn.relu6\n",
    "])(inp)"
   ]
  },
  {
   "cell_type": "code",
   "execution_count": 40,
   "id": "2be76ade-905f-4f30-93ca-c8b75c82ba5b",
   "metadata": {},
   "outputs": [
    {
     "name": "stdout",
     "output_type": "stream",
     "text": [
      "Model: \"model_2\"\n",
      "_________________________________________________________________\n",
      " Layer (type)                Output Shape              Param #   \n",
      "=================================================================\n",
      " input_7 (InputLayer)        [(None, 224, 224, 3)]     0         \n",
      "                                                                 \n",
      " sequential_76 (Sequential)  (None, 112, 112, 32)      992       \n",
      "                                                                 \n",
      " sequential_77 (Sequential)  (None, 112, 112, 64)      2720      \n",
      "                                                                 \n",
      " zero_padding2d_23 (ZeroPadd  (None, 113, 113, 64)     0         \n",
      " ing2D)                                                          \n",
      "                                                                 \n",
      " sequential_78 (Sequential)  (None, 56, 56, 128)       9536      \n",
      "                                                                 \n",
      " sequential_79 (Sequential)  (None, 56, 56, 128)       18560     \n",
      "                                                                 \n",
      " zero_padding2d_24 (ZeroPadd  (None, 57, 57, 128)      0         \n",
      " ing2D)                                                          \n",
      "                                                                 \n",
      " sequential_80 (Sequential)  (None, 28, 28, 256)       35456     \n",
      "                                                                 \n",
      " sequential_81 (Sequential)  (None, 28, 28, 256)       69888     \n",
      "                                                                 \n",
      " zero_padding2d_25 (ZeroPadd  (None, 29, 29, 256)      0         \n",
      " ing2D)                                                          \n",
      "                                                                 \n",
      " sequential_82 (Sequential)  (None, 14, 14, 512)       136448    \n",
      "                                                                 \n",
      " sequential_83 (Sequential)  (None, 14, 14, 512)       270848    \n",
      "                                                                 \n",
      " sequential_84 (Sequential)  (None, 14, 14, 512)       270848    \n",
      "                                                                 \n",
      " sequential_85 (Sequential)  (None, 14, 14, 512)       270848    \n",
      "                                                                 \n",
      " sequential_86 (Sequential)  (None, 14, 14, 512)       270848    \n",
      "                                                                 \n",
      " sequential_87 (Sequential)  (None, 14, 14, 512)       270848    \n",
      "                                                                 \n",
      " zero_padding2d_26 (ZeroPadd  (None, 15, 15, 512)      0         \n",
      " ing2D)                                                          \n",
      "                                                                 \n",
      " sequential_88 (Sequential)  (None, 7, 7, 1024)        535040    \n",
      "                                                                 \n",
      " sequential_89 (Sequential)  (None, 7, 7, 1024)        1065984   \n",
      "                                                                 \n",
      " global_average_pooling2d_3   (None, 1024)             0         \n",
      " (GlobalAveragePooling2D)                                        \n",
      "                                                                 \n",
      " dense_2 (Dense)             (None, 10)                10250     \n",
      "                                                                 \n",
      "=================================================================\n",
      "Total params: 3,239,114\n",
      "Trainable params: 3,217,226\n",
      "Non-trainable params: 21,888\n",
      "_________________________________________________________________\n"
     ]
    }
   ],
   "source": [
    "filters = [64, 128, 256, 512, 1024]\n",
    "iters = [1,2,2,6,2]\n",
    "flat_fun = tf.keras.layers.GlobalAveragePooling2D\n",
    "for i, (filter, iter) in enumerate(zip(filters, iters)):\n",
    "    for j in range(iter):\n",
    "        padding = \"valid\" if i != 0 and j == 0 else \"same\"\n",
    "        strides = 2 if i != 0 and j == 0 else 1\n",
    "        x=BlockMobile(\n",
    "            3, filter, padding=padding, strides = strides)(x)\n",
    "    if len(iters) != i+1:\n",
    "        x=layers.ZeroPadding2D(padding=((0,1),(0,1)))(x)\n",
    "x = flat_fun()(x)\n",
    "out = layers.Dense( 10, activation = \"softmax\")(x)\n",
    "tf.keras.Model(inp, out).summary()"
   ]
  },
  {
   "cell_type": "code",
   "execution_count": null,
   "id": "3c6b9ca2-8321-4736-9536-7013748de31e",
   "metadata": {},
   "outputs": [],
   "source": []
  }
 ],
 "metadata": {
  "kernelspec": {
   "display_name": "Python 3 (ipykernel)",
   "language": "python",
   "name": "python3"
  },
  "language_info": {
   "codemirror_mode": {
    "name": "ipython",
    "version": 3
   },
   "file_extension": ".py",
   "mimetype": "text/x-python",
   "name": "python",
   "nbconvert_exporter": "python",
   "pygments_lexer": "ipython3",
   "version": "3.9.19"
  }
 },
 "nbformat": 4,
 "nbformat_minor": 5
}
