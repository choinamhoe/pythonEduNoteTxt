{
 "cells": [
  {
   "cell_type": "code",
   "execution_count": null,
   "id": "237745bc-d530-495a-a9b9-ddb977732478",
   "metadata": {},
   "outputs": [],
   "source": [
    "from utils.classification.basic import ClassificationBuilder\n",
    "from utils.classification import vgg, res, mobile, efficient"
   ]
  },
  {
   "cell_type": "code",
   "execution_count": null,
   "id": "98732d9a-0697-4cba-8b36-fee2c7de2379",
   "metadata": {},
   "outputs": [],
   "source": [
    "builder = ClassificationBuilder(\n",
    "    num_classes = 10, input_shape = (224,224,3),\n",
    "    activation = \"softmax\")"
   ]
  },
  {
   "cell_type": "code",
   "execution_count": null,
   "id": "c296a3f9-800f-44fd-bb21-6c100d927dbe",
   "metadata": {
    "scrolled": true
   },
   "outputs": [],
   "source": [
    "model = builder.build(vgg.args[\"vgg11\"], vgg.get_model)"
   ]
  },
  {
   "cell_type": "code",
   "execution_count": null,
   "id": "5e180eb4-70dc-4aaf-b961-6615a0f1cf96",
   "metadata": {},
   "outputs": [],
   "source": [
    "args = {\n",
    "    'filters': [32, 64, 128, 256, 256],\n",
    "    'iters': [1, 1, 2, 2, 2],\n",
    "    'body_filters': [2048, 2048],\n",
    "    'input_shape': (224, 224, 3),\n",
    "    'num_classes': 10,\n",
    "    'activation': 'softmax'}"
   ]
  },
  {
   "cell_type": "code",
   "execution_count": null,
   "id": "f20b8cd2-0f16-4fd0-90df-5c0425b32d17",
   "metadata": {},
   "outputs": [],
   "source": [
    "model = builder.build(args, vgg.get_model)"
   ]
  },
  {
   "cell_type": "code",
   "execution_count": null,
   "id": "4b6f30ae-f096-4b45-b64c-4bba418dc243",
   "metadata": {},
   "outputs": [],
   "source": [
    "model.summary()"
   ]
  },
  {
   "cell_type": "code",
   "execution_count": null,
   "id": "977caf33-5e7c-4509-9196-24134293729f",
   "metadata": {},
   "outputs": [],
   "source": [
    "model = builder.build(res.args[\"res18\"], res.get_model)\n",
    "model.summary()"
   ]
  },
  {
   "cell_type": "code",
   "execution_count": null,
   "id": "8798528a-468c-4831-b618-dd8d9c1cee67",
   "metadata": {},
   "outputs": [],
   "source": [
    "args = {\n",
    "    'input_shape': (224, 224, 3),\n",
    "    'filters': [32, 64, 128, 256, 512],\n",
    "    'iters': [1, 2, 2, 6, 2]\n",
    "}\n",
    "model = builder.build(args, mobile.get_model)\n",
    "model.summary()"
   ]
  },
  {
   "cell_type": "code",
   "execution_count": null,
   "id": "25a413f2-d2bb-4804-a29b-7019845fd30f",
   "metadata": {},
   "outputs": [],
   "source": [
    "model = builder.build(mobile.args, mobile.get_model)\n",
    "model.summary()"
   ]
  },
  {
   "cell_type": "code",
   "execution_count": 15,
   "id": "afe757de-c299-4a11-b2e5-7611e77ecf60",
   "metadata": {},
   "outputs": [],
   "source": [
    "base_dict = efficient.args[\"base\"]\n",
    "base_dict.update(efficient.args[\"added\"][\"B0\"])\n",
    "model = builder.build(base_dict, efficient.get_model)"
   ]
  },
  {
   "cell_type": "code",
   "execution_count": null,
   "id": "f70975a3-67e1-4ea7-bdc3-3a811ba0e02e",
   "metadata": {},
   "outputs": [],
   "source": []
  }
 ],
 "metadata": {
  "kernelspec": {
   "display_name": "Python 3 (ipykernel)",
   "language": "python",
   "name": "python3"
  },
  "language_info": {
   "codemirror_mode": {
    "name": "ipython",
    "version": 3
   },
   "file_extension": ".py",
   "mimetype": "text/x-python",
   "name": "python",
   "nbconvert_exporter": "python",
   "pygments_lexer": "ipython3",
   "version": "3.9.19"
  }
 },
 "nbformat": 4,
 "nbformat_minor": 5
}
