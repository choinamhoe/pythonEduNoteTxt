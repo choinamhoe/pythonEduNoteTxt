{
 "cells": [
  {
   "cell_type": "code",
   "execution_count": 1,
   "id": "bae18f92-c2e6-4280-91f6-52e3a0c04be7",
   "metadata": {},
   "outputs": [],
   "source": [
    "import cv2 , tqdm, os, glob, string\n",
    "import numpy as np\n",
    "import pandas as pd\n",
    "import tensorflow as tf\n",
    "import albumentations as A\n",
    "import matplotlib.pyplot as plt \n",
    "from sklearn.model_selection import train_test_split"
   ]
  },
  {
   "cell_type": "code",
   "execution_count": 2,
   "id": "4f5512c3-db06-4cfa-bf78-8ba7de9e8573",
   "metadata": {},
   "outputs": [],
   "source": [
    "files = glob.glob(\"export2/train/*\")\n",
    "tr_dirs = glob.glob(\"data/train/*\")\n",
    "tr_df = pd.concat([pd.read_csv(f\"{i}/label.csv\") for i in tr_dirs], ignore_index=True)\n",
    "tr_df[\"img_name\"] = [f\"export2/train/{i}\" for i in tr_df[\"img_name\"]]\n",
    "te_df = pd.DataFrame({\"img_name\":glob.glob(\"export2/test/*\")})\n",
    "te_df = pd.read_csv(\"data/sample_submission.csv\")\n",
    "te_df[\"img_name\"] = [f\"export2/test/{i}\" for i in te_df[\"img_name\"]]"
   ]
  },
  {
   "cell_type": "code",
   "execution_count": 3,
   "id": "be64d2ce-492b-4257-92e8-b8eb48e95625",
   "metadata": {},
   "outputs": [
    {
     "data": {
      "text/html": [
       "<div>\n",
       "<style scoped>\n",
       "    .dataframe tbody tr th:only-of-type {\n",
       "        vertical-align: middle;\n",
       "    }\n",
       "\n",
       "    .dataframe tbody tr th {\n",
       "        vertical-align: top;\n",
       "    }\n",
       "\n",
       "    .dataframe thead th {\n",
       "        text-align: right;\n",
       "    }\n",
       "</style>\n",
       "<table border=\"1\" class=\"dataframe\">\n",
       "  <thead>\n",
       "    <tr style=\"text-align: right;\">\n",
       "      <th></th>\n",
       "      <th>img_name</th>\n",
       "      <th>leaf_weight</th>\n",
       "    </tr>\n",
       "  </thead>\n",
       "  <tbody>\n",
       "    <tr>\n",
       "      <th>0</th>\n",
       "      <td>export2/train/CASE23_01.jpg</td>\n",
       "      <td>51.392</td>\n",
       "    </tr>\n",
       "    <tr>\n",
       "      <th>1</th>\n",
       "      <td>export2/train/CASE23_02.jpg</td>\n",
       "      <td>61.783</td>\n",
       "    </tr>\n",
       "    <tr>\n",
       "      <th>2</th>\n",
       "      <td>export2/train/CASE23_03.jpg</td>\n",
       "      <td>123.205</td>\n",
       "    </tr>\n",
       "    <tr>\n",
       "      <th>3</th>\n",
       "      <td>export2/train/CASE23_04.jpg</td>\n",
       "      <td>169.785</td>\n",
       "    </tr>\n",
       "    <tr>\n",
       "      <th>4</th>\n",
       "      <td>export2/train/CASE23_05.jpg</td>\n",
       "      <td>192.064</td>\n",
       "    </tr>\n",
       "    <tr>\n",
       "      <th>...</th>\n",
       "      <td>...</td>\n",
       "      <td>...</td>\n",
       "    </tr>\n",
       "    <tr>\n",
       "      <th>1587</th>\n",
       "      <td>export2/train/CASE19_01.jpg</td>\n",
       "      <td>0.026</td>\n",
       "    </tr>\n",
       "    <tr>\n",
       "      <th>1588</th>\n",
       "      <td>export2/train/CASE19_02.jpg</td>\n",
       "      <td>0.290</td>\n",
       "    </tr>\n",
       "    <tr>\n",
       "      <th>1589</th>\n",
       "      <td>export2/train/CASE19_03.jpg</td>\n",
       "      <td>0.578</td>\n",
       "    </tr>\n",
       "    <tr>\n",
       "      <th>1590</th>\n",
       "      <td>export2/train/CASE19_04.jpg</td>\n",
       "      <td>0.747</td>\n",
       "    </tr>\n",
       "    <tr>\n",
       "      <th>1591</th>\n",
       "      <td>export2/train/CASE19_05.jpg</td>\n",
       "      <td>0.621</td>\n",
       "    </tr>\n",
       "  </tbody>\n",
       "</table>\n",
       "<p>1592 rows × 2 columns</p>\n",
       "</div>"
      ],
      "text/plain": [
       "                         img_name  leaf_weight\n",
       "0     export2/train/CASE23_01.jpg       51.392\n",
       "1     export2/train/CASE23_02.jpg       61.783\n",
       "2     export2/train/CASE23_03.jpg      123.205\n",
       "3     export2/train/CASE23_04.jpg      169.785\n",
       "4     export2/train/CASE23_05.jpg      192.064\n",
       "...                           ...          ...\n",
       "1587  export2/train/CASE19_01.jpg        0.026\n",
       "1588  export2/train/CASE19_02.jpg        0.290\n",
       "1589  export2/train/CASE19_03.jpg        0.578\n",
       "1590  export2/train/CASE19_04.jpg        0.747\n",
       "1591  export2/train/CASE19_05.jpg        0.621\n",
       "\n",
       "[1592 rows x 2 columns]"
      ]
     },
     "execution_count": 3,
     "metadata": {},
     "output_type": "execute_result"
    }
   ],
   "source": [
    "tr_df"
   ]
  },
  {
   "cell_type": "code",
   "execution_count": 4,
   "id": "5d167785-0ab8-4d3f-beda-d2cef4874b13",
   "metadata": {},
   "outputs": [],
   "source": [
    "def preprocessing(row, is_test=False):\n",
    "    x = cv2.imread(row[0])\n",
    "    x = cv2.cvtColor(x, cv2.COLOR_BGR2RGB)\n",
    "\n",
    "    H, W = x.shape[:2]\n",
    "    \n",
    "    max_HW = np.max([H,W])\n",
    "    new_x = np.zeros((max_HW,max_HW,3))\n",
    "    new_x[:] = 255\n",
    "    center = max_HW//2\n",
    "    lower = center - np.min([H,W])//2\n",
    "    upper = center + np.min([H,W])//2\n",
    "    \n",
    "    new_x[lower:upper] = x\n",
    "    new_x = cv2.resize(new_x, (224,224))\n",
    "    new_x = new_x.astype(float)\n",
    "    y = row[1]\n",
    "    if is_test:\n",
    "        return new_x\n",
    "    return new_x, y"
   ]
  },
  {
   "cell_type": "code",
   "execution_count": 5,
   "id": "bb799642-3bf0-4181-bb5d-e66fc52551b1",
   "metadata": {},
   "outputs": [],
   "source": [
    "class MyGenerator(tf.keras.utils.Sequence):\n",
    "    def __init__(self, df, batch_size, preprocessing, aug_fun=None, is_test=False):\n",
    "        self.data = df\n",
    "        self.batch_size = batch_size \n",
    "        self.preprocessing = preprocessing\n",
    "        self.aug_fun = aug_fun\n",
    "        self.is_test = is_test\n",
    "    def __len__(self):\n",
    "        return np.ceil(self.data.shape[0] / self.batch_size).astype(int)\n",
    "    def __getitem__(self, index):\n",
    "        st = index * self.batch_size\n",
    "        ed = (index + 1) * self.batch_size\n",
    "        paths = self.data.values[st:ed]\n",
    "        x_list = []\n",
    "        y_list = []\n",
    "        for file_path in paths:\n",
    "            if self.is_test:\n",
    "                x = self.preprocessing(file_path, self.is_test)\n",
    "            else:\n",
    "                x, y = self.preprocessing(file_path)\n",
    "            if self.aug_fun:\n",
    "                x = self.aug_fun(image= x)[\"image\"]\n",
    "                x = np.clip(x, 0, 255)\n",
    "            x_list.append(x)\n",
    "            if not self.is_test:\n",
    "                y_list.append(y)\n",
    "        bat_x = np.array(x_list)\n",
    "        if self.is_test:\n",
    "            return bat_x\n",
    "        bat_y = np.array(y_list)\n",
    "        return bat_x, bat_y\n",
    "    def on_epoch_end(self):\n",
    "        self.data = self.data.sample(frac = 1)"
   ]
  },
  {
   "cell_type": "code",
   "execution_count": 6,
   "id": "174b9041-5647-4cb8-b85b-fd374c89eff3",
   "metadata": {},
   "outputs": [],
   "source": [
    "def create_model():\n",
    "    inputs = tf.keras.layers.Input(shape=(224,224,3))\n",
    "    x = tf.keras.applications.mobilenet_v2.preprocess_input(inputs)\n",
    "    backbone = tf.keras.applications.MobileNetV2(\n",
    "        input_shape=(224,224,3), include_top=False)\n",
    "    backbone.trainable = True\n",
    "    x = backbone(x)\n",
    "    gap = tf.keras.layers.GlobalAveragePooling2D()(x)\n",
    "    x = tf.keras.layers.Dense(512)(gap)\n",
    "    x = tf.keras.layers.Dense(128)(x)\n",
    "    output = tf.keras.layers.Dense(1, activation=\"ReLU\")(x)    \n",
    "    model = tf.keras.Model(inputs, output)\n",
    "    opt = tf.keras.optimizers.Adam(learning_rate=1 * 1e-3)\n",
    "    \n",
    "    model.compile(\n",
    "        optimizer = opt,\n",
    "        loss = \"MSE\",\n",
    "        metrics=\"MAE\"\n",
    "        )\n",
    "    return model"
   ]
  },
  {
   "cell_type": "code",
   "execution_count": 7,
   "id": "fa02e035-35f8-4857-b564-adc5d40ae51c",
   "metadata": {},
   "outputs": [],
   "source": [
    "reduce_lr = tf.keras.callbacks.ReduceLROnPlateau(\n",
    "    monitor='val_loss',    # 검증 손실 기준\n",
    "    factor=0.5,            # 학습률 줄이는 비율 (50%)\n",
    "    patience=6,            # 개선 없을 시 3 에폭 기다림\n",
    "    verbose=1,\n",
    "    min_lr=1e-7\n",
    ")\n",
    "\n",
    "early_stop = tf.keras.callbacks.EarlyStopping(\n",
    "    monitor='val_loss',\n",
    "    patience=10,            # 7 에폭 동안 개선 없으면 중단\n",
    "    verbose=1,\n",
    "    restore_best_weights=True\n",
    ")\n",
    "\n",
    "callbacks = [reduce_lr, early_stop]"
   ]
  },
  {
   "cell_type": "code",
   "execution_count": 8,
   "id": "a6733c2b-522b-416f-a01d-5e2a7597aeb0",
   "metadata": {},
   "outputs": [],
   "source": [
    "my_bins = [0, 20, 100, 200, 300, 1000] \n",
    "tr_df['leaf_weight_bin'] = pd.cut(\n",
    "    tr_df['leaf_weight'], bins=my_bins, \n",
    "    labels=False, include_lowest=True)"
   ]
  },
  {
   "cell_type": "code",
   "execution_count": 9,
   "id": "7f93730b-d992-422f-937e-3675a52e7b3e",
   "metadata": {},
   "outputs": [],
   "source": [
    "augs = [\n",
    "    A.HorizontalFlip(p=0.5),\n",
    "    A.VerticalFlip(p=0.5),\n",
    "    A.Blur(blur_limit=5, p=.6),\n",
    "    A.Affine(\n",
    "        # scale=(0.9, 1.1), # 줌 할 예정이라 제외\n",
    "        translate_percent=(0.01, 0.02),\n",
    "        rotate=(-5, 5),\n",
    "        fill=255,\n",
    "        p=0.8, \n",
    "    ),\n",
    "]\n",
    "aug_fun = A.Compose(augs)"
   ]
  },
  {
   "cell_type": "code",
   "execution_count": 10,
   "id": "6085a3e1-b31f-4fca-96bc-78ce782978c1",
   "metadata": {},
   "outputs": [
    {
     "name": "stderr",
     "output_type": "stream",
     "text": [
      "2025-09-28 12:12:50.976203: I tensorflow/stream_executor/cuda/cuda_gpu_executor.cc:936] successful NUMA node read from SysFS had negative value (-1), but there must be at least one NUMA node, so returning NUMA node zero\n",
      "2025-09-28 12:12:50.987085: I tensorflow/stream_executor/cuda/cuda_gpu_executor.cc:936] successful NUMA node read from SysFS had negative value (-1), but there must be at least one NUMA node, so returning NUMA node zero\n",
      "2025-09-28 12:12:50.989946: I tensorflow/stream_executor/cuda/cuda_gpu_executor.cc:936] successful NUMA node read from SysFS had negative value (-1), but there must be at least one NUMA node, so returning NUMA node zero\n",
      "2025-09-28 12:12:50.993036: I tensorflow/core/platform/cpu_feature_guard.cc:151] This TensorFlow binary is optimized with oneAPI Deep Neural Network Library (oneDNN) to use the following CPU instructions in performance-critical operations:  AVX2 FMA\n",
      "To enable them in other operations, rebuild TensorFlow with the appropriate compiler flags.\n",
      "2025-09-28 12:12:50.994147: I tensorflow/stream_executor/cuda/cuda_gpu_executor.cc:936] successful NUMA node read from SysFS had negative value (-1), but there must be at least one NUMA node, so returning NUMA node zero\n",
      "2025-09-28 12:12:50.996997: I tensorflow/stream_executor/cuda/cuda_gpu_executor.cc:936] successful NUMA node read from SysFS had negative value (-1), but there must be at least one NUMA node, so returning NUMA node zero\n",
      "2025-09-28 12:12:50.999450: I tensorflow/stream_executor/cuda/cuda_gpu_executor.cc:936] successful NUMA node read from SysFS had negative value (-1), but there must be at least one NUMA node, so returning NUMA node zero\n",
      "2025-09-28 12:12:51.877964: I tensorflow/stream_executor/cuda/cuda_gpu_executor.cc:936] successful NUMA node read from SysFS had negative value (-1), but there must be at least one NUMA node, so returning NUMA node zero\n",
      "2025-09-28 12:12:51.879372: I tensorflow/stream_executor/cuda/cuda_gpu_executor.cc:936] successful NUMA node read from SysFS had negative value (-1), but there must be at least one NUMA node, so returning NUMA node zero\n",
      "2025-09-28 12:12:51.880538: I tensorflow/stream_executor/cuda/cuda_gpu_executor.cc:936] successful NUMA node read from SysFS had negative value (-1), but there must be at least one NUMA node, so returning NUMA node zero\n",
      "2025-09-28 12:12:51.881641: I tensorflow/core/common_runtime/gpu/gpu_device.cc:1525] Created device /job:localhost/replica:0/task:0/device:GPU:0 with 10068 MB memory:  -> device: 0, name: NVIDIA GeForce RTX 3060, pci bus id: 0000:22:00.0, compute capability: 8.6\n"
     ]
    }
   ],
   "source": [
    "train_df, val_df = train_test_split(\n",
    "    tr_df, test_size=0.1, \n",
    "    stratify=tr_df[\"leaf_weight_bin\"],\n",
    "    random_state=42\n",
    ")\n",
    "batch_size = 16\n",
    "tr_gen = MyGenerator(train_df.reset_index(drop=True), \n",
    "                 batch_size, preprocessing, aug_fun=aug_fun)\n",
    "val_gen = MyGenerator(val_df.reset_index(drop=True), \n",
    "                 batch_size, preprocessing, aug_fun=None)\n",
    "checkpoint_path = f'model/model.h5'\n",
    "\n",
    "checkpoint = tf.keras.callbacks.ModelCheckpoint(\n",
    "    filepath=checkpoint_path,\n",
    "    monitor='val_loss',\n",
    "    verbose=1,\n",
    "    save_best_only=True,\n",
    "    save_weights_only=False  \n",
    ")\n",
    "model = create_model()"
   ]
  },
  {
   "cell_type": "code",
   "execution_count": 11,
   "id": "868f2eea-bb46-4453-8b2b-74c8c4cfc89a",
   "metadata": {
    "scrolled": true
   },
   "outputs": [
    {
     "name": "stdout",
     "output_type": "stream",
     "text": [
      "Model: \"model\"\n",
      "_________________________________________________________________\n",
      " Layer (type)                Output Shape              Param #   \n",
      "=================================================================\n",
      " input_1 (InputLayer)        [(None, 224, 224, 3)]     0         \n",
      "                                                                 \n",
      " tf.math.truediv (TFOpLambda  (None, 224, 224, 3)      0         \n",
      " )                                                               \n",
      "                                                                 \n",
      " tf.math.subtract (TFOpLambd  (None, 224, 224, 3)      0         \n",
      " a)                                                              \n",
      "                                                                 \n",
      " mobilenetv2_1.00_224 (Funct  (None, 7, 7, 1280)       2257984   \n",
      " ional)                                                          \n",
      "                                                                 \n",
      " global_average_pooling2d (G  (None, 1280)             0         \n",
      " lobalAveragePooling2D)                                          \n",
      "                                                                 \n",
      " dense (Dense)               (None, 512)               655872    \n",
      "                                                                 \n",
      " dense_1 (Dense)             (None, 128)               65664     \n",
      "                                                                 \n",
      " dense_2 (Dense)             (None, 1)                 129       \n",
      "                                                                 \n",
      "=================================================================\n",
      "Total params: 2,979,649\n",
      "Trainable params: 2,945,537\n",
      "Non-trainable params: 34,112\n",
      "_________________________________________________________________\n"
     ]
    }
   ],
   "source": [
    "model.summary()"
   ]
  },
  {
   "cell_type": "code",
   "execution_count": null,
   "id": "1716f095-9f69-4b12-b74e-d83f30af007a",
   "metadata": {},
   "outputs": [
    {
     "name": "stdout",
     "output_type": "stream",
     "text": [
      "Epoch 1/100\n"
     ]
    },
    {
     "name": "stderr",
     "output_type": "stream",
     "text": [
      "2025-09-28 12:13:04.159416: I tensorflow/stream_executor/cuda/cuda_dnn.cc:368] Loaded cuDNN version 8201\n",
      "2025-09-28 12:13:07.402720: I tensorflow/stream_executor/cuda/cuda_blas.cc:1786] TensorFloat-32 will be used for the matrix multiplication. This will only be logged once.\n"
     ]
    },
    {
     "name": "stdout",
     "output_type": "stream",
     "text": [
      "21/90 [======>.......................] - ETA: 26s - loss: 3048.7043 - MAE: 30.9402  "
     ]
    }
   ],
   "source": [
    "history = model.fit(\n",
    "    tr_gen,\n",
    "    validation_data= val_gen,\n",
    "    epochs=100,\n",
    "    callbacks=[*callbacks, checkpoint],\n",
    "    use_multiprocessing=True,\n",
    "    workers=4\n",
    "    )\n",
    "model.load_weights(checkpoint_path)"
   ]
  },
  {
   "cell_type": "code",
   "execution_count": 16,
   "id": "dab9d743-6574-49a4-b38a-140d41af7581",
   "metadata": {},
   "outputs": [
    {
     "data": {
      "image/png": "[encoded data removed]",
      "text/plain": [
       "<Figure size 800x500 with 1 Axes>"
      ]
     },
     "metadata": {},
     "output_type": "display_data"
    }
   ],
   "source": [
    "hist = history.history\n",
    "\n",
    "# 1. Loss 시각화\n",
    "plt.figure(figsize=(8, 5))\n",
    "plt.plot(hist['loss'][30:], label='train_loss')\n",
    "plt.plot(hist['val_loss'][30:], label='val_loss')\n",
    "plt.xlabel('Epoch')\n",
    "plt.ylabel('Loss')\n",
    "plt.title('Training & Validation Loss')\n",
    "plt.legend()\n",
    "plt.grid(True)\n",
    "plt.show()"
   ]
  },
  {
   "cell_type": "code",
   "execution_count": 17,
   "id": "bb410307-4a8c-417f-bf4f-93491374e9cc",
   "metadata": {},
   "outputs": [
    {
     "name": "stdout",
     "output_type": "stream",
     "text": [
      "29/29 [==============================] - 4s 111ms/step\n"
     ]
    }
   ],
   "source": [
    "te_gen = MyGenerator(\n",
    "    te_df, batch_size, preprocessing,\n",
    "    aug_fun=None, is_test=True)\n",
    "pred = model.predict(te_gen,verbose=1)"
   ]
  },
  {
   "cell_type": "code",
   "execution_count": 22,
   "id": "4ad8bdbb-cbf4-4b42-9b5b-cca5cb84d892",
   "metadata": {},
   "outputs": [],
   "source": [
    "te_df[\"leaf_weight\"] = pred"
   ]
  },
  {
   "cell_type": "code",
   "execution_count": 30,
   "id": "77ace64a-c4cb-4ab6-accf-03f869316ba8",
   "metadata": {},
   "outputs": [],
   "source": [
    "te_df[\"img_name\"] = [os.path.basename(i) for i in te_df[\"img_name\"]]"
   ]
  },
  {
   "cell_type": "code",
   "execution_count": 31,
   "id": "92392856-2444-4d2f-a5b4-1fe659f5de85",
   "metadata": {},
   "outputs": [],
   "source": [
    "te_df[[\"img_name\",\"leaf_weight\"]].to_csv(\n",
    "    \"results/00_first.csv\",index=False)"
   ]
  },
  {
   "cell_type": "code",
   "execution_count": null,
   "id": "cefedbcf-162b-4647-9521-4825ee53198b",
   "metadata": {},
   "outputs": [],
   "source": []
  }
 ],
 "metadata": {
  "kernelspec": {
   "display_name": "Python 3 (ipykernel)",
   "language": "python",
   "name": "python3"
  },
  "language_info": {
   "codemirror_mode": {
    "name": "ipython",
    "version": 3
   },
   "file_extension": ".py",
   "mimetype": "text/x-python",
   "name": "python",
   "nbconvert_exporter": "python",
   "pygments_lexer": "ipython3",
   "version": "3.9.19"
  }
 },
 "nbformat": 4,
 "nbformat_minor": 5
}
