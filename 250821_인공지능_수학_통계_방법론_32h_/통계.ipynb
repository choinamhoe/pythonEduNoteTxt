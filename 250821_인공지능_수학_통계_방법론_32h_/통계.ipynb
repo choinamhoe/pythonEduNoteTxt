{
 "cells": [
  {
   "cell_type": "code",
   "execution_count": 14,
   "id": "c3e3fef9-0716-409e-9e08-9b5ff8292430",
   "metadata": {},
   "outputs": [
    {
     "name": "stdout",
     "output_type": "stream",
     "text": [
      "Independent T-test: T-statistic = -3.267060484675225, P-value = 0.011406222385636006\n"
     ]
    }
   ],
   "source": [
    "import scipy.stats as stats\n",
    "\n",
    "# 예시 데이터\n",
    "group1 = [23, 21, 18, 25, 30]\n",
    "group2 = [31, 29, 33, 28, 35]\n",
    "\n",
    "# 독립 표본 T-검정\n",
    "t_stat, p_value = stats.ttest_ind(group1, group2)\n",
    "\n",
    "print(f\"Independent T-test: T-statistic = {t_stat}, P-value = {p_value}\")"
   ]
  },
  {
   "cell_type": "code",
   "execution_count": 15,
   "id": "01c7f4f1-a56c-491f-89f1-0e0c80a377a9",
   "metadata": {},
   "outputs": [
    {
     "name": "stdout",
     "output_type": "stream",
     "text": [
      "Paired T-test: T-statistic = -3.833490860027325, P-value = 0.018562564501560474\n"
     ]
    }
   ],
   "source": [
    "import scipy.stats as stats\n",
    "\n",
    "# 예시 데이터\n",
    "before = [23, 21, 18, 25, 30]\n",
    "after = [31, 29, 33, 28, 35]\n",
    "\n",
    "# 대응 표본 T-검정\n",
    "t_stat, p_value = stats.ttest_rel(before, after)\n",
    "\n",
    "print(f\"Paired T-test: T-statistic = {t_stat}, P-value = {p_value}\")"
   ]
  },
  {
   "cell_type": "code",
   "execution_count": 16,
   "id": "aa19a37c-d868-48f9-9783-b22b910b594d",
   "metadata": {},
   "outputs": [
    {
     "name": "stdout",
     "output_type": "stream",
     "text": [
      "One-sample T-test: T-statistic = -0.7940666671767449, P-value = 0.4716055293587744\n"
     ]
    }
   ],
   "source": [
    "import scipy.stats as stats\n",
    "\n",
    "# 예시 데이터\n",
    "sample = [23, 21, 18, 25, 30]\n",
    "population_mean = 25\n",
    "\n",
    "# 단일 표본 T-검정\n",
    "t_stat, p_value = stats.ttest_1samp(sample, population_mean)\n",
    "\n",
    "print(f\"One-sample T-test: T-statistic = {t_stat}, P-value = {p_value}\")"
   ]
  },
  {
   "cell_type": "code",
   "execution_count": 17,
   "id": "85f7c9a5-382f-4107-90b6-cb618f33de9a",
   "metadata": {},
   "outputs": [
    {
     "name": "stdout",
     "output_type": "stream",
     "text": [
      "Levene's Test: Statistic = 0.505050505050505, P-value = 0.49748144335364686\n"
     ]
    }
   ],
   "source": [
    "import scipy.stats as stats\n",
    "\n",
    "# 예시 데이터\n",
    "group1 = [23, 21, 18, 25, 30]\n",
    "group2 = [31, 29, 33, 28, 35]\n",
    "\n",
    "# Levene's Test for equal variances\n",
    "stat, p_value = stats.levene(group1, group2)\n",
    "\n",
    "print(f\"Levene's Test: Statistic = {stat}, P-value = {p_value}\")"
   ]
  },
  {
   "cell_type": "code",
   "execution_count": 18,
   "id": "dbed613c-8762-40f2-b06d-76acca10a0f9",
   "metadata": {},
   "outputs": [
    {
     "name": "stdout",
     "output_type": "stream",
     "text": [
      "Sign Test: P-value = 0.1875\n"
     ]
    }
   ],
   "source": [
    "import numpy as np\n",
    "from scipy.stats import binom\n",
    "\n",
    "# 예시 데이터 (두 그룹의 차이)\n",
    "data1 = [2, 3, 5, 7, 9]\n",
    "data2 = [1, 4, 6, 8, 10]\n",
    "\n",
    "# 차이 계산 (데이터1 - 데이터2)\n",
    "differences = np.subtract(data1, data2)\n",
    "\n",
    "# 부호를 구하고, 0을 제외한 값들의 개수만 사용\n",
    "positive = np.sum(differences > 0)\n",
    "negative = np.sum(differences < 0)\n",
    "\n",
    "# 두 값에 대해 p-value 계산 (이항분포 사용)\n",
    "n = positive + negative\n",
    "p_value = binom.cdf(positive, n, 0.5)\n",
    "\n",
    "print(f\"Sign Test: P-value = {p_value}\")"
   ]
  },
  {
   "cell_type": "code",
   "execution_count": 19,
   "id": "969bf0b6-9d64-4969-9899-90c1cc3f78a2",
   "metadata": {},
   "outputs": [
    {
     "name": "stdout",
     "output_type": "stream",
     "text": [
      "Mann-Whitney U Test: Statistic = 2.0, P-value = 0.031746031746031744\n"
     ]
    }
   ],
   "source": [
    "import scipy.stats as stats\n",
    "\n",
    "# 예시 데이터\n",
    "group1 = [23, 21, 18, 25, 30]\n",
    "group2 = [31, 29, 33, 28, 35]\n",
    "\n",
    "# Mann-Whitney U Test\n",
    "stat, p_value = stats.mannwhitneyu(group1, group2)\n",
    "\n",
    "print(f\"Mann-Whitney U Test: Statistic = {stat}, P-value = {p_value}\")\n"
   ]
  },
  {
   "cell_type": "code",
   "execution_count": 21,
   "id": "8e621cac-5a22-43c3-9d92-fb0f722a04a0",
   "metadata": {},
   "outputs": [
    {
     "name": "stdout",
     "output_type": "stream",
     "text": [
      "Wilcoxon Signed-Rank Test: Statistic = 0.0, P-value = 0.0625\n"
     ]
    }
   ],
   "source": [
    "import scipy.stats as stats\n",
    "\n",
    "# 예시 데이터\n",
    "before = [23, 21, 18, 25, 30]\n",
    "after = [31, 29, 33, 28, 35]\n",
    "\n",
    "# Wilcoxon Signed-Rank Test\n",
    "stat, p_value = stats.wilcoxon(before, after)\n",
    "\n",
    "print(f\"Wilcoxon Signed-Rank Test: Statistic = {stat}, P-value = {p_value}\")\n"
   ]
  },
  {
   "cell_type": "code",
   "execution_count": 22,
   "id": "3f287927-bac3-4fd0-b584-5ea90abdae51",
   "metadata": {},
   "outputs": [
    {
     "name": "stdout",
     "output_type": "stream",
     "text": [
      "Kruskal-Wallis H Test: Statistic = 11.060000000000002, P-value = 0.003965989089091061\n"
     ]
    }
   ],
   "source": [
    "import scipy.stats as stats\n",
    "\n",
    "# 예시 데이터\n",
    "group1 = [23, 21, 18, 25, 30]\n",
    "group2 = [31, 29, 33, 28, 35]\n",
    "group3 = [15, 17, 12, 14, 19]\n",
    "\n",
    "# Kruskal-Wallis H Test\n",
    "stat, p_value = stats.kruskal(group1, group2, group3)\n",
    "\n",
    "print(f\"Kruskal-Wallis H Test: Statistic = {stat}, P-value = {p_value}\")\n"
   ]
  },
  {
   "cell_type": "code",
   "execution_count": 23,
   "id": "90601543-c41f-455d-95ef-4320c8e368c6",
   "metadata": {},
   "outputs": [
    {
     "name": "stdout",
     "output_type": "stream",
     "text": [
      "ANOVA: F-statistic = 26.150837988826826, P-value = 4.224289953941998e-05\n"
     ]
    }
   ],
   "source": [
    "import scipy.stats as stats\n",
    "\n",
    "# 예시 데이터\n",
    "group1 = [23, 21, 18, 25, 30]\n",
    "group2 = [31, 29, 33, 28, 35]\n",
    "group3 = [15, 17, 12, 14, 19]\n",
    "\n",
    "# ANOVA (일원 분산 분석)\n",
    "stat, p_value = stats.f_oneway(group1, group2, group3)\n",
    "\n",
    "print(f\"ANOVA: F-statistic = {stat}, P-value = {p_value}\")\n"
   ]
  },
  {
   "cell_type": "code",
   "execution_count": 24,
   "id": "1dba23c6-ac2d-4977-8db4-03e51ad4f31f",
   "metadata": {},
   "outputs": [
    {
     "name": "stdout",
     "output_type": "stream",
     "text": [
      "Levene Test (등분산 검정): Statistic = 0.5000000000000001, P-value = 0.6186248513251718\n"
     ]
    }
   ],
   "source": [
    "import scipy.stats as stats\n",
    "\n",
    "# 예시 데이터\n",
    "group1 = [23, 21, 18, 25, 30]\n",
    "group2 = [31, 29, 33, 28, 35]\n",
    "group3 = [15, 17, 12, 14, 19]\n",
    "\n",
    "# Levene Test (등분산 검정)\n",
    "stat, p_value = stats.levene(group1, group2, group3)\n",
    "\n",
    "print(f\"Levene Test (등분산 검정): Statistic = {stat}, P-value = {p_value}\")\n"
   ]
  },
  {
   "cell_type": "code",
   "execution_count": 25,
   "id": "40f49e3c-85a9-441b-a134-c037e88fe7f7",
   "metadata": {},
   "outputs": [
    {
     "name": "stdout",
     "output_type": "stream",
     "text": [
      "Bartlett Test (등분산 검정): Statistic = 1.2073587326760253, P-value = 0.5467960673160819\n"
     ]
    }
   ],
   "source": [
    "import scipy.stats as stats\n",
    "\n",
    "# 예시 데이터\n",
    "group1 = [23, 21, 18, 25, 30]\n",
    "group2 = [31, 29, 33, 28, 35]\n",
    "group3 = [15, 17, 12, 14, 19]\n",
    "\n",
    "# Bartlett Test (등분산 검정)\n",
    "stat, p_value = stats.bartlett(group1, group2, group3)\n",
    "\n",
    "print(f\"Bartlett Test (등분산 검정): Statistic = {stat}, P-value = {p_value}\")\n"
   ]
  },
  {
   "cell_type": "code",
   "execution_count": 26,
   "id": "cc0621c4-8d59-46b8-8936-2eb4f3abb2c0",
   "metadata": {},
   "outputs": [
    {
     "name": "stdout",
     "output_type": "stream",
     "text": [
      "Shapiro-Wilk Test (정규성 검정): Statistic = 0.9845254770141517, P-value = 0.9572744370891436\n"
     ]
    }
   ],
   "source": [
    "import scipy.stats as stats\n",
    "\n",
    "# 예시 데이터\n",
    "data = [23, 21, 18, 25, 30]\n",
    "\n",
    "# Shapiro-Wilk Test (정규성 검정)\n",
    "stat, p_value = stats.shapiro(data)\n",
    "\n",
    "print(f\"Shapiro-Wilk Test (정규성 검정): Statistic = {stat}, P-value = {p_value}\")\n"
   ]
  },
  {
   "cell_type": "code",
   "execution_count": 27,
   "id": "1e4ac47b-e4ed-402c-bc15-6bb8d912bd02",
   "metadata": {},
   "outputs": [
    {
     "name": "stdout",
     "output_type": "stream",
     "text": [
      "Anderson-Darling Test (정규성 검정): Statistic = 0.1652645078339514, Critical Values = [0.72  0.82  0.984 1.148 1.365]\n"
     ]
    }
   ],
   "source": [
    "import scipy.stats as stats\n",
    "\n",
    "# 예시 데이터\n",
    "data = [23, 21, 18, 25, 30]\n",
    "\n",
    "# Anderson-Darling Test (정규성 검정)\n",
    "result = stats.anderson(data)\n",
    "\n",
    "print(f\"Anderson-Darling Test (정규성 검정): Statistic = {result.statistic}, Critical Values = {result.critical_values}\")\n"
   ]
  },
  {
   "cell_type": "code",
   "execution_count": 28,
   "id": "5167f19c-4398-4388-81ca-428b9fa9ea8a",
   "metadata": {},
   "outputs": [
    {
     "name": "stdout",
     "output_type": "stream",
     "text": [
      "Durbin-Watson 통계량: 1.8510327142952774\n"
     ]
    }
   ],
   "source": [
    "import numpy as np\n",
    "import statsmodels.api as sm\n",
    "from statsmodels.stats.stattools import durbin_watson\n",
    "\n",
    "# 예시 데이터\n",
    "# 독립 변수 X와 종속 변수 y\n",
    "X = np.random.rand(100, 3)  # 3개의 독립 변수\n",
    "y = 5 + np.dot(X, np.array([1.5, -2.3, 3.7])) + np.random.randn(100)  # 종속 변수 (임의로 생성)\n",
    "\n",
    "# 상수항 추가 (절편 추가)\n",
    "X = sm.add_constant(X)\n",
    "\n",
    "# OLS 회귀 모델 적합\n",
    "model = sm.OLS(y, X).fit()\n",
    "\n",
    "# 더빈-왓슨 검정\n",
    "dw_statistic = durbin_watson(model.resid)\n",
    "\n",
    "print(f\"Durbin-Watson 통계량: {dw_statistic}\")"
   ]
  },
  {
   "cell_type": "code",
   "execution_count": null,
   "id": "f249d8a8-b8a2-447d-a5bd-d7cd208192e2",
   "metadata": {},
   "outputs": [],
   "source": []
  }
 ],
 "metadata": {
  "kernelspec": {
   "display_name": "Python 3 (ipykernel)",
   "language": "python",
   "name": "python3"
  },
  "language_info": {
   "codemirror_mode": {
    "name": "ipython",
    "version": 3
   },
   "file_extension": ".py",
   "mimetype": "text/x-python",
   "name": "python",
   "nbconvert_exporter": "python",
   "pygments_lexer": "ipython3",
   "version": "3.9.19"
  }
 },
 "nbformat": 4,
 "nbformat_minor": 5
}
