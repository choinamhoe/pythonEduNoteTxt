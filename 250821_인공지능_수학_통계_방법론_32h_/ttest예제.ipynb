{
 "cells": [
  {
   "cell_type": "code",
   "execution_count": null,
   "id": "e1c81e84-46a5-42c2-9551-c77b7a5905c8",
   "metadata": {},
   "outputs": [
    {
     "name": "stdout",
     "output_type": "stream",
     "text": [
      "One-sample t-test -> t-stat: 3.2265533294574125, p-value: 0.032080269143254174\n"
     ]
    },
    {
     "data": {
      "text/plain": [
       "'\\np value 가 0.05 이상이므로 유의수준 0.05에서 귀무가설을 기각하여,\\n학생들의 평균 시험점수는 80점과 다르다\\n'"
      ]
     },
     "execution_count": 13,
     "metadata": {},
     "output_type": "execute_result"
    }
   ],
   "source": [
    "import numpy as np\n",
    "from scipy import stats\n",
    "\n",
    "# 데이터\n",
    "before_exam = [85, 82, 85, 90, 95]\n",
    "population_mean = 80\n",
    "\n",
    "\"\"\"\n",
    "귀무가설은 \"학생들의 평균 시험 점수는 80이다\"\n",
    "대립가설은 \"학생들의 평균 시험 점수는 80과 다르다\"\n",
    "\"\"\"\n",
    "# 일표본 t-검정\n",
    "t_stat, p_value = stats.ttest_1samp(before_exam, population_mean)\n",
    "\n",
    "print(f\"One-sample t-test -> t-stat: {t_stat}, p-value: {p_value}\")\n",
    "\"\"\"\n",
    "p value 가 0.05 작으므로 유의수준 0.05에서 귀무가설을 기각하여,\n",
    "학생들의 평균 시험점수는 80점과 다르다\n",
    "\"\"\""
   ]
  },
  {
   "cell_type": "code",
   "execution_count": null,
   "id": "e1de8091-a60a-4673-bc26-aeb76effb754",
   "metadata": {},
   "outputs": [
    {
     "name": "stdout",
     "output_type": "stream",
     "text": [
      "Independent t-test -> t-stat: 0.04938647983248018, p-value: 0.961822051828931\n"
     ]
    },
    {
     "data": {
      "text/plain": [
       "'\\np value 가 0.05 이상이므로 유의수준 0.05에서 귀무가설을 기각하여,\\n학생들의 평균 시험점수는 80점과 다르다\\n'"
      ]
     },
     "execution_count": 14,
     "metadata": {},
     "output_type": "execute_result"
    }
   ],
   "source": [
    "# 데이터\n",
    "before_exam = [85, 82, 85, 90, 95]\n",
    "after_exam = [78, 82, 88, 91, 97]\n",
    "\n",
    "\"\"\"\n",
    "귀무가설은 \"두 그룹의 평균은 동일하다\"\n",
    "대립가설은 \"두 그룹의 평균이 다르다\"\n",
    "\"\"\"\n",
    "# 이표본 t-검정\n",
    "t_stat, p_value = stats.ttest_ind(before_exam, after_exam)\n",
    "\n",
    "print(f\"Independent t-test -> t-stat: {t_stat}, p-value: {p_value}\")\n",
    "\"\"\"\n",
    "p value 가 0.05 이상이므로 유의수준 0.05에서 귀무가설을 기각하지 못하여,\n",
    "두 그룹의 평균에 통계적으로 유의미한 차이가 없다\n",
    "\"\"\""
   ]
  },
  {
   "cell_type": "code",
   "execution_count": 16,
   "id": "814af402-6f4c-44fe-9918-020469f52e21",
   "metadata": {},
   "outputs": [
    {
     "name": "stdout",
     "output_type": "stream",
     "text": [
      "Independent t-test -> t-stat: 0.11286652959662008, p-value: 0.9155740088398181\n"
     ]
    },
    {
     "data": {
      "text/plain": [
       "'\\np value 가 0.05 이상이므로 유의수준 0.05에서 귀무가설을 기각하지 못하여,\\n두 그룹의 평균에 통계적으로 유의미한 차이가 없다\\n'"
      ]
     },
     "execution_count": 16,
     "metadata": {},
     "output_type": "execute_result"
    }
   ],
   "source": [
    "# 데이터\n",
    "before_exam = [85, 82, 85, 90, 95]\n",
    "after_exam = [78, 82, 88, 91, 97]\n",
    "\n",
    "\"\"\"\n",
    "귀무가설은 \"시험 전후 점수 차이가 없다\"\n",
    "대립가설은 \"시험 전후 점수 차이가 있다\"\n",
    "\"\"\"\n",
    "# 이표본 t-검정\n",
    "t_stat, p_value = stats.ttest_rel(before_exam, after_exam)\n",
    "\n",
    "print(f\"Independent t-test -> t-stat: {t_stat}, p-value: {p_value}\")\n",
    "\"\"\"\n",
    "p value 가 0.05 이상이므로 유의수준 0.05에서 귀무가설을 기각하지 못하여,\n",
    "시험 전후 점수 차이는 통계적으로 유의미하지 않다\n",
    "\"\"\""
   ]
  },
  {
   "cell_type": "code",
   "execution_count": null,
   "id": "19b94ecf-fbc4-45c0-9c03-43e2004e4254",
   "metadata": {},
   "outputs": [],
   "source": []
  }
 ],
 "metadata": {
  "kernelspec": {
   "display_name": "Python 3 (ipykernel)",
   "language": "python",
   "name": "python3"
  },
  "language_info": {
   "codemirror_mode": {
    "name": "ipython",
    "version": 3
   },
   "file_extension": ".py",
   "mimetype": "text/x-python",
   "name": "python",
   "nbconvert_exporter": "python",
   "pygments_lexer": "ipython3",
   "version": "3.9.19"
  }
 },
 "nbformat": 4,
 "nbformat_minor": 5
}
